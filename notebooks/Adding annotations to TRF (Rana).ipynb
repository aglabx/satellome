{
 "cells": [
  {
   "cell_type": "code",
   "execution_count": 78,
   "id": "02df86ca",
   "metadata": {},
   "outputs": [],
   "source": [
    "folder = \"/mnt/data/podgornaya/rana_temporaria/users/akomissarov/trf\"\n",
    "\n",
    "\n",
    "COLOR_PALETTE = {\n",
    "    \"w600\": \"#9E0142\",\n",
    "    \"w500\": \"#D53E4F\",\n",
    "    \"w400\": \"#F46D43\",\n",
    "    \"w300\": \"#FDAE61\",\n",
    "    \"w200\": \"#FEE08B\",\n",
    "    \"w100\": \"#FFFFBF\",\n",
    "    \"c100\": \"#E6F598\",\n",
    "    \"c200\": \"#ABDDA4\",\n",
    "    \"c300\": \"#66C2A5\",\n",
    "    \"c400\": \"#3288BD\",\n",
    "    \"c500\": \"#5E4FA2\",\n",
    "}\n",
    "\n",
    "known = {\n",
    "    \"Rtem35A\": \"ATAGTGGTATAGTGATGTCATAG\",\n",
    "    \"Rtem32A\": \"AGATAGATAGGGAAAGAGAGAGA\",\n",
    "    \"Rtem47A\": \"CCATCAAACGCAGCCACTGTGCC\",\n",
    "    \"Rtem35B\": \"TGCAGGGTGCTGTGTAATGTAAA\",\n",
    "    \"Rtem219A\": \"TATCTTCAAGAGAGTTAAGGACA\",\n",
    "    \"Rtem493A\": \"CCGGTTGCTATTCAGGAAGATGC\",\n",
    "}\n",
    "\n",
    "colors = {\n",
    "    \"Rtem35A\": COLOR_PALETTE[\"w600\"],\n",
    "    \"Rtem32A\": COLOR_PALETTE[\"c500\"],\n",
    "    \"Rtem47A\": COLOR_PALETTE[\"w400\"],\n",
    "    \"Rtem35B\": COLOR_PALETTE[\"c400\"],\n",
    "    \"Rtem219A\": COLOR_PALETTE[\"w300\"],\n",
    "    \"Rtem493A\": COLOR_PALETTE[\"c300\"],\n",
    "    \"NaN\": COLOR_PALETTE[\"w100\"],\n",
    "}"
   ]
  },
  {
   "cell_type": "code",
   "execution_count": 80,
   "id": "c28e132b",
   "metadata": {},
   "outputs": [],
   "source": [
    "from pydantic import BaseModel\n",
    "\n",
    "class TRF(BaseModel):\n",
    "    project: str = \"\"\n",
    "    id: str = \"\"\n",
    "    trf_id: str = \"\"\n",
    "    trf_type: str = \"TR\"\n",
    "    trf_family: str = \"\"\n",
    "    trf_cluster_10: int = 0\n",
    "    trf_cluster_20: int = 0\n",
    "    trf_family_prob: float = 0.0\n",
    "    trf_l_ind: int = 0\n",
    "    trf_r_ind: int = 0\n",
    "    trf_period: int = 0\n",
    "    trf_n_copy: float = 0.0\n",
    "    trf_pmatch: float = 0.0\n",
    "    trf_consensus: str = \"\"\n",
    "    trf_array: str = \"\"\n",
    "    trf_array_gc: float = 0.0\n",
    "    trf_consensus_gc: float = 0.0\n",
    "    trf_array_length: int = 0\n",
    "    trf_color: str = colors[\"NaN\"]\n",
    "    trf_raw_min_cov: int = 0\n",
    "    trf_raw_max_cov: int = 0\n",
    "    trf_raw_median_cov: float = 0.0\n",
    "                \n",
    "    def init_from_trf(self, trf):\n",
    "        self.project = trf[0]\n",
    "        self.id = trf[1]\n",
    "        self.trf_id = trf[2]\n",
    "        self.trf_r_ind = int(trf[6])\n",
    "        self.trf_l_ind = int(trf[7])\n",
    "        self.trf_period = int(trf[8])\n",
    "        self.trf_n_copy = float(trf[9])\n",
    "        self.trf_pmatch = float(trf[10])\n",
    "        self.trf_consensus = trf[13]\n",
    "        self.trf_array = trf[14]\n",
    "        self.trf_array_gc = float(trf[15])\n",
    "        self.trf_consensus_gc = float(trf[16])\n",
    "        self.trf_array_length = int(trf[20])\n",
    "        \n",
    "        "
   ]
  },
  {
   "cell_type": "code",
   "execution_count": 65,
   "id": "3ee4f4d4",
   "metadata": {},
   "outputs": [
    {
     "name": "stdout",
     "output_type": "stream",
     "text": [
      "0 Rtem\n",
      "1 AGT0000001321400\n",
      "2 NC_053489.1_22165269_22168101\n",
      "3 None\n",
      "4 None\n",
      "5 0.0\n",
      "6 22165269\n",
      "7 22168101\n",
      "8 4\n",
      "9 708.2\n",
      "10 89.0\n",
      "11 11.0\n",
      "12 1.62\n",
      "13 AGAT\n",
      "14 TAGATAGATAGACATGTAGATAAATAGATAGATAGATAGAGGAGACAGACATGTAGATAAATAGATAGACAGACAGATAGATAGATAGATAAACTAGAGAGACATACATGTAGATAGATAGATAGATAGATAGATAGATAGATAGATAGATAGATAGATAGATAGATAGATAGATAGATAGATAGATAGATATATAGATAGATAGATAGACAGATATATAGATAGATAGATAGACAGAGAGATAGATAGATAGATAGATAGATAGATAGATAGATAGATAGATAGATAGATAGATAGATAGATAGATAGATAGATAGATAGACAGAGAGAGAGATAGATAGATAGATAGATAGATAGATAGATAGATAGATAGATAGATAGATAGATAGATAGATAGATAGATAGATAGACATGTAGATAGATAGATAGATAGATAGATAGATAGATAGATAGATAGATAGATAGATAGATAGATAGATAGATAGATAGATAGATAGACAGAGAGATAGATAGATAGATAGATAGATAGATAGATAGATAGATAGATAGATAGATAGATAGATAGATAGATAGATAGGCAGATAGATAGATAGATAGATAGATAGATAGATAGATAGATAGATAGATAGATAGATAGATAGATAGATAGATAGATAGATAGACATGTAGATAGATAGATAGATAGATAGATAGATAGATAGATAGATAGATAGATAGATAGATAGATAGATAGATAACTAGAGAGACATACATGTAGATAGATAGATAGATAGATAGATAGATAGATAGATAGATAGATAGATAGATAGATAGATAGATAGATAGATAGATAGATAGACAGATAGATATGAAGATAAATAGATAGATAGATAGATAGATAGATAGATAGATAGATAGATAGATAGATAGATAGATAGATAGATAGATAACTAGAGAGACATACATGTAGATAGATAGATAGATAGATAGATAGATAGATAGATAGATAGATAGATAGATAGATAGATAGATAGATAGATAGATAGATAGATAACTAGAGAGACATACATGTAGATAGATAGATAGATAGATAGATAGATAGATAGATAGATAGATAGATAGATAGATAGATAGATAGATAGATAGATAGATAGATAGATAGACAGAGAGATAGATAGATAGATAGATAGATAGATAGATAGATAGATAGATAGATAGATAGATAGATAGATAGATAGATAGATAGATAGATAGATAGATAGATAGATAGATAGATAGATAGACATGTAGATAGATAGATAGATAGATAGATAGATAGATAGATAGATAGATAGATAGATAGATAGATAGATAGATAGATAGATAGATAGATAGACATGTAGATAGATAGATATATAGACATGTAGATAGATAGATAGATAGATAGATAGATAGATAGATAGATAGATAGATAGATAGATAGATAGATAGATAGATAGATAGATAGATAGATAGATAGATAACTAGAGAGACATACATGTAGATAGATAGATAGATAGATAGATAGATAGATAGATAGATAGATAGATAGATAGATAGATAGATAGATAGATAGATAGATAACTAGAGAGACATACATGTAGATAGATAGATAGATAGATAGATAGATAGATAGATAGATAGATAGATAGATAGATAGATAGATAGATAAACAGACATGTAGAAAGATATGAAGATCAATAGACATGTAGATATATAAATAGACAGACATGTAGATAGATAGATAGATAGATAGATAGATAGATAGATAGATAGATAGATAGATAGATAGATAGATAGATAGATAGATAGATAGATAGATAGATAGACATGTAGATAGATAGATAGATAGATAGATAGATAGATAGATAGATAGATAGATAGATAGATAGATAGATAGATAGATAGATAGATAGATAGATAGATAGATAGATAGATAGATAGACATGTAGATAGATAGATATATAGACATGTAGATAGATAGATAGATAGATAGATAGATAGATAGATAGATAGATAGATAGATAGATAGATAACTAGAGAGACATACATGTAGATAGATAGATAGATAGATAGATAGATAGATAGATAGATAGATAGATAGATAGATAGATAGATAGATAGATAGATAGATAGATAGATAGATAGATAACTAGAGAGACATACATGTAGATAGATAGATAGATAGATAGATAGATAGATAGATAGATAGATAGATAGATAGATAGATAGATAGATAGATAGATAGATAGATAGATAGATAGATAGATAACTAGAGAGACATACATGTAGATAGATAGATAGATAGATAGATAGATAATAGATAGACGATAGATAGATAGATAGATAGATAGATAGATAGATAGATAGATAGATAGATAGATAGATAAGTAGAGAGACATACATGTAGATAGATAGATAGATAGATAGATAGATAGATAGATAGATAGATAGATAGATAGATAGATAGATAGATAGATAGATAGATAAGTAGAGAGACATACATGTAGATAGATAGATAGATAGATAGATAGATAGATAGATAGATAGATAGATAGATAGATAGATAGATAGATAGATAGATAGATAACTAGAGAGACATACATGTAGATAGATAGATAGATAGATAGATAGATAGATAGATAGATAGATAGATAGATAGATAGATAGATAGATAGATAAACAGACATGTAGAAAGATATGAAGATCAATAGACATGTAGATATATAAATAGACAGACATGTAGATAGATAGATAGATAGATAGATAGATAGATAGATAGATAGATAGATAGATAGATAGATAGATAGATAGATAGATATGAAGATAGATAGAT\n",
      "15 0.2672079068125662\n",
      "16 0.25\n",
      "17 Unknown\n",
      "18 NC_053489.1 Rana temporaria chromosome 1, aRanTem1.1, whole genome shotgun sequence\n",
      "19 0\n",
      "20 2833\n",
      "21 1\n",
      "22 0\n",
      "23 None\n",
      "24 None\n",
      "25 None\n",
      "26 None\n",
      "27 None\n",
      "28 None\n",
      "29 None\n",
      "30 None\n",
      "31 0\n",
      "32 0\n",
      "33 None\n",
      "34 None\n",
      "35 None\n",
      "36 None\n"
     ]
    }
   ],
   "source": []
  },
  {
   "cell_type": "code",
   "execution_count": 54,
   "id": "5aab9d58",
   "metadata": {},
   "outputs": [],
   "source": [
    "from trseeker.tools.sequence_tools import get_revcomp\n",
    "\n",
    "rknown = {\n",
    "}\n",
    "for name in known:\n",
    "    rknown[name] = get_revcomp(known[name])"
   ]
  },
  {
   "cell_type": "code",
   "execution_count": 96,
   "id": "df857f03",
   "metadata": {},
   "outputs": [],
   "source": [
    "settings = {\n",
    "    \"raw_coverage\": \"/mnt/data/podgornaya/rana_temporaria/users/akomissarov/trf/ERR6003052.1k.strff\",\n",
    "    \"trf_1k\": \"/mnt/data/podgornaya/rana_temporaria/users/akomissarov/trf/GCF_905171775.1_aRanTem1.1_genomic.1kb.trf\",\n",
    "    \"distances\": \"/mnt/data/podgornaya/rana_temporaria/users/akomissarov/GCF_905171775.1_aRanTem1.1_genomic.1kb.distances2\",\n",
    "    \"annotated_file\": \"/mnt/data/podgornaya/rana_temporaria/users/akomissarov/GCF_905171775.1_aRanTem1.1_genomic.1kb.annotated.trf\",\n",
    "}"
   ]
  },
  {
   "cell_type": "code",
   "execution_count": 56,
   "id": "944d4aac",
   "metadata": {},
   "outputs": [],
   "source": [
    "from satelome.trf_clusters import Graph"
   ]
  },
  {
   "cell_type": "code",
   "execution_count": null,
   "id": "b768bccc",
   "metadata": {},
   "outputs": [],
   "source": []
  },
  {
   "cell_type": "code",
   "execution_count": 81,
   "id": "9cf3b359",
   "metadata": {},
   "outputs": [
    {
     "data": {
      "text/plain": [
       "87432"
      ]
     },
     "execution_count": 81,
     "metadata": {},
     "output_type": "execute_result"
    }
   ],
   "source": [
    "trid2data = {}\n",
    "full2trid = {}\n",
    "with open(settings[\"trf_1k\"]) as fh:\n",
    "    for line in fh:\n",
    "        d = line.strip().split(\"\\t\")\n",
    "        tr = TRF()\n",
    "        tr.init_from_trf(d)\n",
    "        trid2data[d[1]] = tr\n",
    "        full2trid[d[2]] = d[1]\n",
    "len(trid2data)"
   ]
  },
  {
   "cell_type": "code",
   "execution_count": 11,
   "id": "09a68547",
   "metadata": {},
   "outputs": [
    {
     "name": "stdout",
     "output_type": "stream",
     "text": [
      "0 1000000 2000000 3000000 4000000 5000000 6000000 7000000 8000000 9000000 10000000 11000000 12000000 13000000 14000000 15000000 16000000 17000000 18000000 19000000 20000000 21000000 22000000 23000000 24000000 25000000 26000000 27000000 28000000 29000000 30000000 31000000 32000000 33000000 34000000 35000000 36000000 37000000 38000000 39000000 40000000 41000000 42000000 43000000 44000000 45000000 46000000 47000000 48000000 49000000 50000000 51000000 52000000 53000000 54000000 55000000 56000000 57000000 58000000 59000000 60000000 61000000 62000000 63000000 64000000 65000000 66000000 67000000 68000000 69000000 70000000 71000000 72000000 73000000 74000000 75000000 76000000 77000000 78000000 79000000 80000000 81000000 82000000 83000000 84000000 85000000 86000000 87000000 88000000 89000000 90000000 91000000 92000000 93000000 94000000 95000000 96000000 97000000 98000000 99000000 100000000 101000000 102000000 103000000 104000000 105000000 106000000 107000000 108000000 109000000 110000000 111000000 112000000 113000000 114000000 115000000 116000000 117000000 118000000 119000000 120000000 121000000 122000000 123000000 124000000 125000000 126000000 127000000 128000000 129000000 130000000 131000000 132000000 133000000 134000000 135000000 136000000 137000000 138000000 139000000 140000000 141000000 142000000 143000000 144000000 145000000 146000000 147000000 148000000 149000000 150000000 151000000 152000000 153000000 154000000 155000000 156000000 157000000 158000000 159000000 160000000 161000000 162000000 163000000 164000000 165000000 166000000 167000000 168000000 169000000 170000000 171000000 172000000 173000000 174000000 175000000 176000000 177000000 178000000 179000000 180000000 181000000 182000000 183000000 184000000 185000000 186000000 187000000 188000000 189000000 190000000 191000000 192000000 193000000 194000000 195000000 196000000 197000000 198000000 199000000 200000000 201000000 202000000 203000000 204000000 205000000 206000000 207000000 208000000 209000000 210000000 211000000 212000000 213000000 214000000 215000000 216000000 217000000 218000000 219000000 220000000 221000000 222000000 223000000 224000000 225000000 226000000 227000000 228000000 229000000 230000000 231000000 232000000 233000000 234000000 235000000 236000000 237000000 238000000 239000000 240000000 241000000 242000000 243000000 244000000 245000000 246000000 247000000 248000000 249000000 250000000 251000000 252000000 253000000 254000000 255000000 256000000 257000000 258000000 259000000 260000000 261000000 262000000 263000000 264000000 265000000 266000000 267000000 268000000 269000000 270000000 271000000 272000000 273000000 274000000 275000000 276000000 277000000 278000000 279000000 280000000 281000000 282000000 283000000 284000000 285000000 286000000 287000000 288000000 289000000 290000000 291000000 292000000 293000000 294000000 295000000 296000000 297000000 298000000 299000000 300000000 301000000 302000000 303000000 304000000 305000000 306000000 307000000 308000000 309000000 310000000 311000000 312000000 313000000 314000000 315000000 316000000 317000000 318000000 319000000 320000000 321000000 322000000 323000000 324000000 325000000 326000000 327000000 328000000 329000000 330000000 331000000 332000000 333000000 334000000 335000000 336000000 337000000 338000000 339000000 340000000 341000000 342000000 343000000 344000000 345000000 346000000 347000000 348000000 349000000 350000000 351000000 352000000 353000000 354000000 355000000 356000000 357000000 358000000 359000000 360000000 361000000 362000000 363000000 364000000 365000000 366000000 367000000 368000000 369000000 370000000 371000000 372000000 373000000 374000000 375000000 376000000 377000000 378000000 379000000 380000000 381000000 382000000 383000000 384000000 385000000 386000000 387000000 388000000 389000000 390000000 391000000 392000000 393000000 394000000 395000000 396000000 397000000 398000000 399000000 400000000 401000000 402000000 403000000 404000000 405000000 406000000 407000000 408000000 409000000 "
     ]
    }
   ],
   "source": [
    "g = Graph(list(trid2data.keys()))\n",
    "with open(settings[\"distances\"]) as fh:\n",
    "    for i, line in enumerate(fh):\n",
    "        if i % 10000000 == 0:\n",
    "            print(i, end=\" \")\n",
    "        a, b, distance = line.strip().split(\"\\t\")\n",
    "        g.addEdge(a, b, float(distance))"
   ]
  },
  {
   "cell_type": "code",
   "execution_count": 14,
   "id": "be6ac0e5",
   "metadata": {},
   "outputs": [
    {
     "data": {
      "text/plain": [
       "27715"
      ]
     },
     "execution_count": 14,
     "metadata": {},
     "output_type": "execute_result"
    }
   ],
   "source": [
    "import sys\n",
    "sys.setrecursionlimit(1000000)\n",
    "comps = g.connectedComponents()\n",
    "len(comps)"
   ]
  },
  {
   "cell_type": "code",
   "execution_count": 58,
   "id": "fa0ffa9f",
   "metadata": {},
   "outputs": [
    {
     "data": {
      "text/plain": [
       "46"
      ]
     },
     "execution_count": 58,
     "metadata": {},
     "output_type": "execute_result"
    }
   ],
   "source": [
    "len([x for x in comps if len(x) > 100])"
   ]
  },
  {
   "cell_type": "code",
   "execution_count": null,
   "id": "17ff58d2",
   "metadata": {},
   "outputs": [],
   "source": [
    "G.remove_edges_by_distances(0.1)\n"
   ]
  },
  {
   "cell_type": "code",
   "execution_count": null,
   "id": "d2838f35",
   "metadata": {},
   "outputs": [],
   "source": [
    "comps20 = G.connectedComponents()"
   ]
  },
  {
   "cell_type": "code",
   "execution_count": 82,
   "id": "cca17a77",
   "metadata": {},
   "outputs": [],
   "source": [
    "### add raw reads coverage\n",
    "with open(settings[\"raw_coverage\"]) as fh:\n",
    "    for line in fh:\n",
    "        fullname, mincov, maxcov, median, covs = line.strip().split(\"\\t\")\n",
    "        if not fullname in full2trid:\n",
    "            continue\n",
    "        trid = full2trid[fullname]\n",
    "        trid2data[trid].trf_raw_min_cov = int(mincov)\n",
    "        trid2data[trid].trf_raw_max_cov = int(maxcov)\n",
    "        trid2data[trid].trf_raw_median_cov = float(median)"
   ]
  },
  {
   "cell_type": "code",
   "execution_count": 83,
   "id": "1d7d75e1",
   "metadata": {},
   "outputs": [],
   "source": [
    "named = 0\n",
    "for trid in trid2data:\n",
    "    tr = trid2data[trid]\n",
    "    names = []\n",
    "    for rep, kmer in known.items():\n",
    "        if kmer in tr.trf_array:\n",
    "            names.append((rep, tr.trf_array.count(kmer)))\n",
    "    for rep, kmer in rknown.items():\n",
    "        if kmer in tr.trf_array:\n",
    "            names.append((rep, tr.trf_array.count(kmer)))\n",
    "    trid2data[trid].trf_color = colors['NaN']\n",
    "    if names:\n",
    "        uniq_names = set([x[0] for x in names])\n",
    "        if len(uniq_names) == 1:\n",
    "            \n",
    "            trid2data[trid].trf_color = colors[names[0][0]]\n",
    "            trid2data[trid].trf_family = names[0][0]\n",
    "            N = sum([x[1] for x in names])\n",
    "            trid2data[trid].trf_family_prob = min(1.0, N/trid2data[trid].trf_n_copy)\n",
    "            named += 1\n",
    "        else:\n",
    "            print(data)\n",
    "            print(names)\n",
    "            print(\"???\")\n",
    "            break"
   ]
  },
  {
   "cell_type": "code",
   "execution_count": 40,
   "id": "fe41910f",
   "metadata": {},
   "outputs": [
    {
     "data": {
      "text/plain": [
       "2711"
      ]
     },
     "execution_count": 40,
     "metadata": {},
     "output_type": "execute_result"
    }
   ],
   "source": [
    "named"
   ]
  },
  {
   "cell_type": "code",
   "execution_count": null,
   "id": "3b821683",
   "metadata": {},
   "outputs": [],
   "source": []
  },
  {
   "cell_type": "code",
   "execution_count": 89,
   "id": "3e00ddcb",
   "metadata": {},
   "outputs": [],
   "source": [
    "for cid, component in enumerate(comps20):\n",
    "    for i in component:\n",
    "        trid = g.node2id[i]\n",
    "        trid2data[trid].trf_cluster_20 = cid+1"
   ]
  },
  {
   "cell_type": "code",
   "execution_count": 90,
   "id": "b26f297b",
   "metadata": {},
   "outputs": [
    {
     "name": "stdout",
     "output_type": "stream",
     "text": [
      "project='Rtem' id='AGT0000000000100' trf_id='NC_053489.1_1_2112' trf_type='TR' trf_family='' trf_cluster_10=0 trf_cluster_20=1 trf_family_prob=0.0 trf_l_ind=2112 trf_r_ind=1 trf_period=20 trf_n_copy=105.7 trf_pmatch=68.0 trf_consensus='AAGAGGGGGGAGAGGGCACC' trf_array='CCTCTTGGTGTCCTCTCCCCCCTCTTGGTGCCCTTTTCTCCCTCTTTGTGCCCTCGCCCCCCCTCTTGGTGCCCTCTTCTCCCTCTTTGTGCCCTCTCCCCCCTCTTGGTGCCCTTTTCTCCCTCTTTGTGCCCTCTCCCCCTTCTTGGTGCCCTCTTCTCCCTCTTTGTGCCCTCTCCCCCCTCTTGGTGCCTTTTTCTCCCTCTTTGTGCCCTCTCCCCCCTCTTCTCCCTCTTGGTGCCCTCTCCCCCCTCTTGGTGCCCTTTTCTCCCTCTGTGTGCCCTCTCCCCCCTCTTGGTGCCCTCTTCTCCCTCTTTGTGCCCTCTCCCCCCCTCTTGGTGCCTTTTTCTCCCTCTTCTCCCTCTTGGTGCCCTCTTCTCCCTCTGTGTGCCCTCTCCCCCCTCTTGGTGCCCTCTTCTCCCTCTGTGTGCCCTCTCCCCCCTCTTGGTGCCTTTTTCTCCCTCTTGGTGCCCTCTTCTCCCTCTTGGTGCCCTCTTCTCCCTCTGTGTGCCCTCTCCCCCCTCTTGGTGCCCTCTTCTCCCTCTGTGTGCCCTCTCCCCCCTCTTGGTGCATTTTTCTCCCTCTTGGTGCCCTCTTCTCCCTCTTGGTGCCCTCTTCTCCCTCTTGGTGCCCTTTTCCCCCTCTTTGTGCCCTCTCCCCCCTCTTGGTGCCTTTTTCTCCCTCTTTGTGCCCTCTCCCCCCTCTTCTCCCTCTTGGTGTCCTCTCCCCCCTCTTGGTGCCCTTTTCTCCCTCTGTGTGCCCTCTCCCCCCTCTTGGTGCCCTCTTCTCCCTCTTTGTGCCCTCTCCCCCCTCTTGGTGCCCTCTTCTCCCTCTTGGTGCCCTCTCCCCCCTCTTGGTGCCCTCTCCCCCCCTCTTGGTGCCCTCTCCCCCCTCTTGGTGCCCTCTCCCCCCTCTTGGTGCCCTCTTCTCCCTCTTTTGCTGCTCATTCCCCCCTCATGGTGCCTTCCCCCCCCCCCCTCTCCCCTCTAAGGTTCCATTTCCCCCCTACTAGTGCCCTCTCCCCACTTTTGATGCCCTCTGATTCCTCTTGTACCAAATTGTAATGTAATTGTACTGTCCCCCTTTATTTTGTAAAGCGCTGCGCAAACTGTTGGCGCCATATAAATCCTGTATAATAATAATAATCATTTCCTTTTTTTGCTTCTTTCTCCCGTCTTGGTATCTTCTCCCCTCGCCTGGTGCCCTCTGCTACCTCTTGGTGCCCCCTCCCTCTTTGCTGTTCTCTTCCCCCTCTTGGTGTCCTCTCCCTCCTCTCACCACTTCCCCCTGTTGCCTGTGCACCCCTCTTCTTGTGCGCCCCCTCCCCCTTTGCTGTTCTCTTCCCCCGCCTTATGCCCCCACTCCCTAGGTGCCTCCTCTTCCTCTTGGTGCCCCTCTCCCTCTTCTTGTGCGCCCCTCTCCCTCTTCTTGTGCGCCCCCCTCCCCCCTCTTGGTACCCCTCTCCTTGTGTGCCCCCTCCCCCCTCTTGGTACCCCTCTCCTTGTGTGCCCCCTCCCCCTCTTGGTGCCCCCTCTCCCCCTTCTTGTTGCCCCCTCTCCTCCTTCTTGTTGCCCCCTCTCCCTAGGTGCCCCCTCTCCCTCTTCTTGTGCGCCCCCTCCCCCCTCTTGGTGCCCCCTCTCCCTCTTCTTGTGCGCCCCCTCCCCCCTCTTGGTGCCCCCTCTCCCCCTTCTTGTTGCCCCCTCTCCCCCTTCTTGTTGCCCCCTCTCCCTAGGTGCCCCCTCTCCCTCTTCTTGTGCGCCCCCTCCCCCCCTCTTGGTGCCCCCTCTCCCTCTTCTTGTGCGCCCCCTCCCCCCTCTTGGTGCCCCCTCTCCCTCTTCTTGTGCGCCCCCTCCCCCCTCTCGGTGCCCCCTCTCCCTCTTCTTGTGTGCCCCCTCCCCCCTCTTGGTGCCCCTCTCCCTCTTGTGCGCCCCCTCCCCCCTCCTGATGCCTGTGCATCCCTCTTCTTGTGCGCCCCCTCCCCCTCTTGGTGCCCCCTCTCCCTCTTCTTGTGTGCCCCCTCCCCCTCTTGGTGCCCCTCTCCCTCTTCTTGTGTGCCCCCTCTTGTTGCCCCTCTCCCTCTTCTTGTGTGCCCCCTCCCCCCTCTCGGTGCCC' trf_array_gc=0.6207386363636364 trf_consensus_gc=0.7 trf_array_length=2112 trf_color='#FFFFBF' trf_raw_min_cov=0 trf_raw_max_cov=28213 trf_raw_median_cov=0.0\n"
     ]
    }
   ],
   "source": [
    "for trid in trid2data:\n",
    "    tr = trid2data[trid]\n",
    "    print(tr)\n",
    "    break"
   ]
  },
  {
   "cell_type": "code",
   "execution_count": 91,
   "id": "93281250",
   "metadata": {},
   "outputs": [],
   "source": [
    "comps20 = comps[::]"
   ]
  },
  {
   "cell_type": "code",
   "execution_count": 93,
   "id": "374d276f",
   "metadata": {},
   "outputs": [],
   "source": [
    "g.remove_edges_by_distances(0.1)"
   ]
  },
  {
   "cell_type": "code",
   "execution_count": 95,
   "id": "9a7c3e31",
   "metadata": {},
   "outputs": [],
   "source": [
    "comps10 = g.connectedComponents()"
   ]
  },
  {
   "cell_type": "code",
   "execution_count": 97,
   "id": "a44754b9",
   "metadata": {},
   "outputs": [],
   "source": [
    "for cid, component in enumerate(comps10):\n",
    "    for i in component:\n",
    "        trid = g.node2id[i]\n",
    "        trid2data[trid].trf_cluster_10 = cid+1"
   ]
  },
  {
   "cell_type": "code",
   "execution_count": 98,
   "id": "f098fa84",
   "metadata": {},
   "outputs": [],
   "source": [
    "# Open the file for writing\n",
    "import csv\n",
    "\n",
    "with open(settings[\"annotated_file\"], 'w', newline='') as tsvfile:\n",
    "    writer = csv.DictWriter(tsvfile, fieldnames=TRF.__fields__.keys(), delimiter='\\t')\n",
    "\n",
    "    # Write the header row\n",
    "    writer.writeheader()\n",
    "\n",
    "    # Write the data rows\n",
    "    for trf in trid2data.values():\n",
    "        writer.writerow(trf.dict())"
   ]
  },
  {
   "cell_type": "code",
   "execution_count": null,
   "id": "2e03f721",
   "metadata": {},
   "outputs": [],
   "source": []
  }
 ],
 "metadata": {
  "kernelspec": {
   "display_name": "Python 3",
   "language": "python",
   "name": "python3"
  },
  "language_info": {
   "codemirror_mode": {
    "name": "ipython",
    "version": 3
   },
   "file_extension": ".py",
   "mimetype": "text/x-python",
   "name": "python",
   "nbconvert_exporter": "python",
   "pygments_lexer": "ipython3",
   "version": "3.8.2"
  }
 },
 "nbformat": 4,
 "nbformat_minor": 5
}
